{
  "cells": [
    {
      "cell_type": "code",
      "execution_count": 2,
      "metadata": {
        "id": "0MeRc1_8c1rw"
      },
      "outputs": [],
      "source": [
        "import requests\n",
        "import json"
      ]
    },
    {
      "cell_type": "code",
      "execution_count": 4,
      "metadata": {
        "colab": {
          "base_uri": "https://localhost:8080/"
        },
        "id": "D7G9OLhYc1rx",
        "outputId": "fc6d46e6-2774-4b9d-fbeb-2ee973bc815b"
      },
      "outputs": [
        {
          "output_type": "stream",
          "name": "stdout",
          "text": [
            " Welcome to the Getaround API\n"
          ]
        }
      ],
      "source": [
        "url = \"https://getaround-api.onrender.com\"\n",
        "\n",
        "response = requests.get(url)\n",
        "\n",
        "print(response.json())"
      ]
    },
    {
      "cell_type": "code",
      "execution_count": 5,
      "metadata": {
        "id": "KaKlGFJpc1ry"
      },
      "outputs": [],
      "source": [
        "url2 =\"https://getaround-api.onrender.com/predict\""
      ]
    },
    {
      "cell_type": "code",
      "execution_count": 8,
      "metadata": {
        "id": "VtHYy9W_c1ry"
      },
      "outputs": [],
      "source": [
        "response2 = requests.post(url2, json = {\n",
        "\"model_key\": \"Nissan\",\n",
        "\"mileage\": 35000,\n",
        "\"engine_power\": 150,\n",
        "\"fuel\": \"diesel\",\n",
        "\"paint_color\": \"black\",\n",
        "\"car_type\": \"sedan\",\n",
        "\"private_parking_available\": True,\n",
        "\"has_gps\": True,\n",
        "\"has_air_conditioning\": True,\n",
        "\"automatic_car\": False,\n",
        "\"has_getaround_connect\": True,\n",
        "\"has_speed_regulator\": True,\n",
        "\"winter_tires\": True\n",
        "})"
      ]
    },
    {
      "cell_type": "code",
      "execution_count": 9,
      "metadata": {
        "colab": {
          "base_uri": "https://localhost:8080/"
        },
        "id": "8adL6g5pc1ry",
        "outputId": "73844b1e-d0d7-466c-ed2a-a7fedabfbb53"
      },
      "outputs": [
        {
          "output_type": "stream",
          "name": "stdout",
          "text": [
            "{'prediction': 153.64000115512584}\n"
          ]
        }
      ],
      "source": [
        "print(response2.json())"
      ]
    }
  ],
  "metadata": {
    "kernelspec": {
      "display_name": "base",
      "language": "python",
      "name": "python3"
    },
    "language_info": {
      "codemirror_mode": {
        "name": "ipython",
        "version": 3
      },
      "file_extension": ".py",
      "mimetype": "text/x-python",
      "name": "python",
      "nbconvert_exporter": "python",
      "pygments_lexer": "ipython3",
      "version": "3.9.12"
    },
    "orig_nbformat": 4,
    "colab": {
      "provenance": []
    }
  },
  "nbformat": 4,
  "nbformat_minor": 0
}